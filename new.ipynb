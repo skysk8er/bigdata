{
 "cells": [
  {
   "cell_type": "code",
   "execution_count": 39,
   "metadata": {},
   "outputs": [
    {
     "name": "stdout",
     "output_type": "stream",
     "text": [
      "LR ROCAUC Score:  0.6352677527639534\n"
     ]
    }
   ],
   "source": [
    "import pandas as pd\n",
    "from sklearn.preprocessing import LabelEncoder\n",
    "from sklearn.impute import SimpleImputer\n",
    "from sklearn.linear_model import LogisticRegression\n",
    "from sklearn.neural_network import MLPClassifier\n",
    "from sklearn.ensemble import RandomForestClassifier\n",
    "from sklearn.metrics import roc_auc_score\n",
    "\n",
    "\n",
    "X_train=pd.read_csv('data/X_train.csv',encoding='cp949')\n",
    "X_train=X_train.iloc[:,1:]\n",
    "X_test=pd.read_csv('data/X_test.csv',encoding='cp949')\n",
    "X_test_id=X_test.iloc[:,0]\n",
    "X_test=X_test.iloc[:,1:]\n",
    "\n",
    "y_train=pd.read_csv('data/y_train.csv',encoding='cp949')\n",
    "y_train=y_train.iloc[:,1]\n",
    "y_test=('data/1234.csv')\n",
    "\n",
    "X_train.loc[:,['주구매상품','주구매지점']] = X_train.loc[:,['주구매상품','주구매지점']].apply(LabelEncoder().fit_transform)\n",
    "X_test.loc[:,['주구매상품','주구매지점']] = X_test.loc[:,['주구매상품','주구매지점']].apply(LabelEncoder().fit_transform)\n",
    "\n",
    "X_train.loc[:,['환불금액']]=X_train.loc[:,['환불금액']].fillna(0)\n",
    "X_test.loc[:,['환불금액']]=X_test.loc[:,['환불금액']].fillna(0)\n",
    "\n",
    "model = LogisticRegression()\n",
    "model.fit(X_train,y_train)\n",
    "print('LR ROCAUC Score: ', roc_auc_score(y_train, pd.DataFrame(model.predict_proba(X_train)).iloc[:,1]))\n",
    "\n",
    "\n",
    "pred=model.predict_proba(X_test)\n",
    "pred=pd.DataFrame(pred)\n",
    "pred=pred.iloc[:,1]\n",
    "pred.index=X_test_id\n",
    "pred.to_csv(y_test,index=False)\n",
    "\n"
   ]
  },
  {
   "cell_type": "code",
   "execution_count": 38,
   "metadata": {},
   "outputs": [
    {
     "data": {
      "text/plain": [
       "'c:\\\\Users\\\\jun\\\\projects\\\\bigdata'"
      ]
     },
     "execution_count": 38,
     "metadata": {},
     "output_type": "execute_result"
    }
   ],
   "source": [
    "%pwd"
   ]
  },
  {
   "cell_type": "code",
   "execution_count": 30,
   "metadata": {},
   "outputs": [
    {
     "name": "stdout",
     "output_type": "stream",
     "text": [
      "NN Training ACC :  0.6228571428571429\n"
     ]
    }
   ],
   "source": [
    "mlp=MLPClassifier(hidden_layer_sizes=(10,),solver='adam',activation='relu', learning_rate_init=0.001,max_iter=500)\n",
    "mlp.fit(X_train,y_train)\n",
    "\n",
    "print('NN Training ACC : ', mlp.score(X_train,y_train))"
   ]
  },
  {
   "cell_type": "code",
   "execution_count": 33,
   "metadata": {},
   "outputs": [
    {
     "data": {
      "text/plain": [
       "0.6928571428571428"
      ]
     },
     "execution_count": 33,
     "metadata": {},
     "output_type": "execute_result"
    }
   ],
   "source": [
    "rf=RandomForestClassifier(n_estimators=100,max_depth=5,random_state=999)\n",
    "rf.fit(X_train,y_train)\n",
    "rf.score(X_train,y_train)"
   ]
  },
  {
   "cell_type": "code",
   "execution_count": 37,
   "metadata": {},
   "outputs": [
    {
     "name": "stdout",
     "output_type": "stream",
     "text": [
      "score:  0.7825714285714286\n"
     ]
    }
   ],
   "source": [
    "from sklearn.neighbors import KNeighborsClassifier\n",
    "md=KNeighborsClassifier(n_neighbors=3,metric='euclidean')\n",
    "md.fit(X_train,y_train)\n",
    "print(\"score: \",md.score(X_train,y_train))"
   ]
  }
 ],
 "metadata": {
  "interpreter": {
   "hash": "9912408204a4f12f6588c4b05fbae185b4eb4acae039a0821c5e537022af1e47"
  },
  "kernelspec": {
   "display_name": "Python 3.8.8 64-bit ('base': conda)",
   "language": "python",
   "name": "python3"
  },
  "language_info": {
   "codemirror_mode": {
    "name": "ipython",
    "version": 3
   },
   "file_extension": ".py",
   "mimetype": "text/x-python",
   "name": "python",
   "nbconvert_exporter": "python",
   "pygments_lexer": "ipython3",
   "version": "3.8.8"
  },
  "orig_nbformat": 4
 },
 "nbformat": 4,
 "nbformat_minor": 2
}
